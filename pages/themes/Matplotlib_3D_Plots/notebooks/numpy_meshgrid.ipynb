{
 "cells": [
  {
   "cell_type": "code",
   "execution_count": 1,
   "metadata": {},
   "outputs": [],
   "source": [
    "import numpy as np\n",
    "import matplotlib.pyplot as plt"
   ]
  },
  {
   "cell_type": "markdown",
   "metadata": {},
   "source": [
    "# Numpy Meshgrid\n",
    "\n",
    "[numpy.meshgrid()](https://numpy.org/doc/stable/reference/generated/numpy.meshgrid.html) function creates a rectangular grid out of two given one-dimensional arrays representing the Cartesian indexing.\n",
    "\n",
    "![meshgrid.png](../images/meshgrid.png)\n",
    "\n",
    "meshgrid is very useful to evaluate functions on a grid."
   ]
  },
  {
   "cell_type": "markdown",
   "metadata": {},
   "source": [
    "## Meshgrid Explanation"
   ]
  },
  {
   "cell_type": "code",
   "execution_count": 2,
   "metadata": {},
   "outputs": [
    {
     "name": "stdout",
     "output_type": "stream",
     "text": [
      "xx:\n",
      " [[1 2 3 4]\n",
      " [1 2 3 4]\n",
      " [1 2 3 4]]\n",
      "******************************\n",
      "yy:\n",
      " [[7 7 7 7]\n",
      " [6 6 6 6]\n",
      " [5 5 5 5]]\n",
      "******************************\n",
      "xx,yy:\n",
      "['1,7', '2,7', '3,7', '4,7']\n",
      "['1,6', '2,6', '3,6', '4,6']\n",
      "['1,5', '2,5', '3,5', '4,5']\n"
     ]
    }
   ],
   "source": [
    "x = np.array([1,2,3,4])\n",
    "y = np.array([7,6,5])\n",
    "\n",
    "xx, yy = np.meshgrid(x,y)\n",
    "\n",
    "# display xx and yy:\n",
    "print('xx:\\n',xx)\n",
    "print('*'*30)\n",
    "print('yy:\\n',yy)\n",
    "print('*'*30)\n",
    "\n",
    "# display xx and yy as coordinates:\n",
    "print('xx,yy:')\n",
    "cols_count = len(xx[0])\n",
    "for pair in zip(xx,yy):\n",
    "\tprint( [f'{pair[0][j]},{pair[1][j]}' for j in range(cols_count)] )\n"
   ]
  },
  {
   "cell_type": "code",
   "execution_count": 3,
   "metadata": {},
   "outputs": [
    {
     "data": {
      "text/plain": [
       "<matplotlib.collections.PathCollection at 0x7f6f5a7c19a0>"
      ]
     },
     "execution_count": 3,
     "metadata": {},
     "output_type": "execute_result"
    },
    {
     "data": {
      "image/png": "[encoded data removed]",
      "text/plain": [
       "<Figure size 640x480 with 1 Axes>"
      ]
     },
     "metadata": {},
     "output_type": "display_data"
    }
   ],
   "source": [
    "# visualize meshgrid coordinates:\n",
    "fig = plt.figure()\n",
    "ax = fig.add_subplot()\n",
    "\n",
    "ax.set_xticks(xx[0])\n",
    "ax.set_yticks(yy[:,0])\n",
    "ax.scatter(xx,yy)"
   ]
  }
 ],
 "metadata": {
  "kernelspec": {
   "display_name": ".venv",
   "language": "python",
   "name": "python3"
  },
  "language_info": {
   "codemirror_mode": {
    "name": "ipython",
    "version": 3
   },
   "file_extension": ".py",
   "mimetype": "text/x-python",
   "name": "python",
   "nbconvert_exporter": "python",
   "pygments_lexer": "ipython3",
   "version": "3.9.12"
  }
 },
 "nbformat": 4,
 "nbformat_minor": 2
}
