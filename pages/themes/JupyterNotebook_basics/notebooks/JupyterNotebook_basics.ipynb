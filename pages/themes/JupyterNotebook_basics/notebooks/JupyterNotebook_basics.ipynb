{
 "cells": [
  {
   "attachments": {},
   "cell_type": "markdown",
   "metadata": {
    "toc-hr-collapsed": false
   },
   "source": [
    "# Jupyter Notebook Bases"
   ]
  },
  {
   "attachments": {},
   "cell_type": "markdown",
   "metadata": {},
   "source": [
    "## A Notebook Document\n",
    "\n",
    "A Notebook is a sequence of cells. There are three types of cells: \n",
    "\n",
    "* **Code cells:** The Input and Output of live code that is run in the kernel\n",
    "* **Markdown cells:** Text formated as a [Markdown](https://www.markdownguide.org/basic-syntax/).\n",
    "* **Raw cells:** Unformatted text\n",
    "\n",
    "// *This cell itself is an example of Markdown*"
   ]
  },
  {
   "attachments": {},
   "cell_type": "markdown",
   "metadata": {
    "toc-hr-collapsed": true
   },
   "source": [
    "### Markdown cell\n",
    "\n",
    "Markdown cells are great way to provide documentation to the computations you're presenting.\n",
    "\n",
    "You can read more about the markdown syntax: [https://www.markdownguide.org/basic-syntax/](https://www.markdownguide.org/basic-syntax/)"
   ]
  },
  {
   "attachments": {},
   "cell_type": "markdown",
   "metadata": {},
   "source": [
    "You can add HTML elements to any Markdown file. For example, next code:\n",
    "```\n",
    "<span style=\"color:\">some styled text</span>\n",
    "```\n",
    "results in:\n",
    "<span style=\"color:#FF00F2\">some styled text</span>\n"
   ]
  },
  {
   "attachments": {},
   "cell_type": "markdown",
   "metadata": {},
   "source": [
    "### Cell Magics:"
   ]
  },
  {
   "attachments": {},
   "cell_type": "markdown",
   "metadata": {},
   "source": [
    "Reference: [https://ipython.readthedocs.io/en/stable/interactive/magics.html](https://ipython.readthedocs.io/en/stable/interactive/magics.html)\n",
    "    \n",
    "For instance, with `%%HTML` cell magic, you can insert a YouTube video in your notebook as an iframe in separate cell:"
   ]
  },
  {
   "cell_type": "code",
   "execution_count": 4,
   "metadata": {},
   "outputs": [
    {
     "data": {
      "text/html": [
       "<iframe height=\"280\" src=\"https://www.youtube.com/embed/HW29067qVWk\" frameborder=\"0\" allow=\"accelerometer; autoplay; encrypted-media; gyroscope; picture-in-picture\" allowfullscreen></iframe>\n"
      ],
      "text/plain": [
       "<IPython.core.display.HTML object>"
      ]
     },
     "metadata": {},
     "output_type": "display_data"
    }
   ],
   "source": [
    "%%HTML\n",
    "<iframe height=\"280\" src=\"https://www.youtube.com/embed/HW29067qVWk\" frameborder=\"0\" allow=\"accelerometer; autoplay; encrypted-media; gyroscope; picture-in-picture\" allowfullscreen></iframe>"
   ]
  },
  {
   "attachments": {},
   "cell_type": "markdown",
   "metadata": {},
   "source": [
    "### Visualisations"
   ]
  },
  {
   "cell_type": "code",
   "execution_count": 40,
   "metadata": {},
   "outputs": [],
   "source": [
    "import numpy as np\n",
    "import matplotlib.pyplot as plt"
   ]
  },
  {
   "cell_type": "code",
   "execution_count": 41,
   "metadata": {},
   "outputs": [
    {
     "data": {
      "text/plain": [
       "<matplotlib.collections.PathCollection at 0x7f844c0c7550>"
      ]
     },
     "execution_count": 41,
     "metadata": {},
     "output_type": "execute_result"
    },
    {
     "data": {
      "image/png": "[encoded data removed]",
      "text/plain": [
       "<Figure size 432x288 with 1 Axes>"
      ]
     },
     "metadata": {
      "needs_background": "light"
     },
     "output_type": "display_data"
    }
   ],
   "source": [
    "X = np.arange(1,10)\n",
    "Y = X**2\n",
    "plt.scatter(X, Y)"
   ]
  },
  {
   "attachments": {},
   "cell_type": "markdown",
   "metadata": {},
   "source": [
    "## Useful keyboard shortcuts"
   ]
  },
  {
   "attachments": {},
   "cell_type": "markdown",
   "metadata": {},
   "source": [
    "You can see all keyboard shortcuts by:\n",
    "- On Jupyter Notebook:    \n",
    "    `Menu -> Help -> Keyboard Shortcuts`\n",
    "      \n",
    "- On Jupyter Lab:    \n",
    "    `Menu->Settings->Advanced Settings Editor->Keyboard Shortcuts`\n",
    "    \n",
    "But here are some of the most often used:\n",
    "\n",
    "**in both cell modes:**\n",
    "- `Ctrl + S` - save the Notebook\n",
    "- `Shift + Enter` - run the current cell, select below\n",
    "\n",
    "\n",
    "**in command mode:**\n",
    "- `Enter` - take you into edit mode\n",
    "\n",
    "- `Y` -  change the cell type to Code\n",
    "- `M` -  change the cell type to Markdown\n",
    " \n",
    "- `A` - insert cell above\n",
    "- `B` - insert cell below\n",
    "\n",
    "- `X` - cut selected cells\n",
    "- `C` - copy selected cells\n",
    "- `V` - paste cells below\n",
    "- `Shift + V` - paste cells above\n",
    "\n",
    "- `D+D` - delete selected cells\n",
    "- `Z` - undo cell deletion\n",
    "\n",
    "\n",
    "\n",
    "**In cell edit mode:**\n",
    "- `Ctrl + Z` - undo\n",
    "\n",
    "- `Esc` - take you into command mode\n",
    "- `Tab` - code completion or indent\n",
    "- `Shift + Tab` - tooltip and documentation\n",
    "- `Ctrl + ]` - indent\n",
    "- `Ctrl + [` - dedent\n",
    "\n",
    "- `Ctrl + A` - select all\n",
    "- `Ctrl + Z` - undo\n"
   ]
  },
  {
   "attachments": {},
   "cell_type": "markdown",
   "metadata": {},
   "source": [
    "### the Command Palette\n",
    "\n",
    "One of the greatest features of Jupyter is that it supports the **Command Palette** which gives you fast access to all commands by fuzzy search.\n",
    "\n",
    "<img src=\"../images/JL_CommandPalette_Demo.png\">"
   ]
  },
  {
   "attachments": {},
   "cell_type": "markdown",
   "metadata": {},
   "source": [
    "Open it in Jupyter Notebook:\n",
    "`CTRL+SHIFT+P` or `CTRL+SHIFT+F` "
   ]
  }
 ],
 "metadata": {
  "kernelspec": {
   "display_name": "Python 3",
   "language": "python",
   "name": "python3"
  },
  "language_info": {
   "codemirror_mode": {
    "name": "ipython",
    "version": 3
   },
   "file_extension": ".py",
   "mimetype": "text/x-python",
   "name": "python",
   "nbconvert_exporter": "python",
   "pygments_lexer": "ipython3",
   "version": "3.7.4"
  },
  "toc-showcode": false,
  "toc-showmarkdowntxt": false,
  "toc-showtags": false
 },
 "nbformat": 4,
 "nbformat_minor": 4
}
